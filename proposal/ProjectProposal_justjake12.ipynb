{
 "cells": [
  {
   "cell_type": "markdown",
   "metadata": {},
   "source": [
    "# COGS 108 - Project Proposal"
   ]
  },
  {
   "cell_type": "markdown",
   "metadata": {},
   "source": [
    "- Name: Jake Gonzalez\n",
    "- GitHub Username: justjake12"
   ]
  },
  {
   "cell_type": "markdown",
   "metadata": {},
   "source": [
    "# Research Question"
   ]
  },
  {
   "cell_type": "code",
   "execution_count": null,
   "metadata": {},
   "outputs": [],
   "source": []
  },
  {
   "cell_type": "markdown",
   "metadata": {},
   "source": [
    "How is the the visitation of a San Diego park influenced by variety of facilities available? How is the visitation to a San Diego park dependent on the amount of open, kempt space available? "
   ]
  },
  {
   "cell_type": "markdown",
   "metadata": {},
   "source": [
    "## Background and Prior Work"
   ]
  },
  {
   "cell_type": "markdown",
   "metadata": {},
   "source": [
    "I am interested in understanding and analyzing the relation between the popularity / amount of traffic to a park and the activities / attributes of said park in order to compare with what attractions San Diego parks have to offer. There is quite a bit of research on the attraction to parks and the visitation to parks, whether it be analyzing socioeconomic aspects or the amount of phsyical activity performed at the park. In an article titled \"\"How Can Neighborhood Parks Attract More Users?\", Cohen and Leuschner explain how the RAND Coporation had conducted the first national study of parks in neighborhoods that was sponsered by the National Heart, Lung, and Blood Institue of the National Institues of Health. The main goal of the study was to understand the social demogrpahics of neighborhood parks and which attributes of parks are people utilizing for physical acitivity. While I don't believe I will focus on the centers surrounding the adults, teens, or toddlers, this article provides some statistics on certain areas of interest: \"the vast majority of parks have lawns (97 percent) and play areas (89 percent). Nearly half the parks have outdoor basketball courts (53 percent) and baseball fields (49 percent), 31 percent have tennis courts, and 29 percent have a walking path or loop. The number of facilities was related to the number of users such that each additional facility (basketball court, tennis court, play area, etc.) was associated with a 2 percent increase in the number of park users and a 2 percent increase in physical activity in the park, compared to the average park\" (Cohen). They found that there were certain disparities amongst the number of people that visited certain parks with certain features as opposed to parks with less features. \n",
    "    In another article, \"29: Number of Times Americans Visit Their Local Parks Anually\" by Daniel Espada, the America's Engagement with Parks's annual survey analyzed how Americans are visiting and interacting with their neighborhood parks and the facilities offered. This article offers some information on the demogrpahics of who is going to parks and for what reasons, as well as reasons they do not go to parks. Some of the people using the parks the most are \"Millennials, those that identify themselves as Hispanic, and parents of children are more frequent visitors to parks and recreation facilities. At the other end of the spectrum, Baby Boomers make far less frequent visits to their local parks\" (Espada). This may offer me some information that may guide me in analyzing data sets that show who are going to parks in San Diego and if we can gear activities towards certain age groups and if we can try and brainstorm activities and attractions for people who are not visiting the park as much. \n",
    "\n",
    "References (include links):\n",
    "- 1) \"How Can Neighborhood Parks Attract More Users?\" by Deborah A. Cohen & Kristin Leuschner : https://www.nrpa.org/parks-recreation-magazine/2017/july/how-can-neighborhood-parks-attract-more-users/\n",
    "- 2) \"29: Number of Times Americans Visit Their Local Parks Anually\" by Daniel Espada : https://www.nrpa.org/blog/29-number-of-times-americans-visit-their-local-parks-annually/"
   ]
  },
  {
   "cell_type": "markdown",
   "metadata": {},
   "source": [
    "# Hypothesis\n"
   ]
  },
  {
   "cell_type": "markdown",
   "metadata": {},
   "source": [
    "I believe that the more facilities and activities offered at a park will heavily influence more people of varying demographics to want to visit and frequent parks. I predict that San Diego parks closer to beaches / the coast will see a heavier influx of people, because of tourism and attraction to the waterfront. I believe that if the park is on the water and offers water based activites as well then there may be a heavy influx of visitors."
   ]
  },
  {
   "cell_type": "markdown",
   "metadata": {},
   "source": [
    "# Data"
   ]
  },
  {
   "cell_type": "markdown",
   "metadata": {},
   "source": [
    "An ideal data set for this proposed question would be one that shows visitation to San Diego parks dating back at least 5 years and shows the varying demographics (i.e. race, age, neighborhood, economic). I would like to see which park attractions (i.e. basbeball courts, walking loops, playgrounds, pools, basketball courts, tennis courts, etc.) are preferred over others, because this would narrow a focus on how to increase visitation to parks. I would also like to have a data set that shows the amount of said attractions at a certain park, because this would allow me to compare the number of attractions and the number and frequency of visitors of one park to another. The data sets would preferrably be annual collections dating back 5 years, because this would allow me to analyze the fluctuation amongst certain parks. I would also need to see what neighborhoods are more populated than others and what neighborhoods attract more people in general. A park in Santee is probably not going to see the same amount of traffic as Kate Sessions in La Jolla. I would ideally have data from 10 parks to appropriately compare a variety of factors amongst them. My observations would be (as noted above): age groups, races, neighborhood, amount of attractions, amount of bathrooms, proximity to businesses / popular areas, historic attributes of park, tourist attractions. "
   ]
  },
  {
   "cell_type": "markdown",
   "metadata": {},
   "source": [
    "# Ethics & Privacy"
   ]
  },
  {
   "cell_type": "markdown",
   "metadata": {},
   "source": [
    "I will have permission to use whatever data I use, because the data I use will either be provided by the professor or be made available to the public. I will not manipulate data about something random and having to do loosely with my topic for the sole purpose of trying to skew my analysis. There are no privacy concerns that I can think will come up with my data, because I will not need data from individuals; I will be analyzing data of groups of people and inanimate objects at parks. I believe that there may be bias in the amount of datasets collected and where the information comes from. I am nervous that data from \"San Diego parks\" or the majority of data collected from parks in general will come from higher income places and nicer, more aesthetically pleasing parks. I want to include those as well, but I need data from less popular parks in lower populated areas or lower income areas as well to compare their attracitions with the traditionally nicer parks. One problem that may arise is the fear of gentrification of lower income places and parks. The goal of this analysis is to not critcize lower income neighborhood parks, nor is it to attempt to gentrify their parks and neighborhoods. I believe I will tackle these proposed issues by having a wide variety of data sets to look through and analyze, and I will be sure to focus on aspects of the park that will benefit members of any community and not attempt to fix something that has nothing to do with parks and attributes offered. "
   ]
  },
  {
   "cell_type": "code",
   "execution_count": null,
   "metadata": {},
   "outputs": [],
   "source": []
  }
 ],
 "metadata": {
  "kernelspec": {
   "display_name": "Python 3",
   "language": "python",
   "name": "python3"
  },
  "language_info": {
   "codemirror_mode": {
    "name": "ipython",
    "version": 3
   },
   "file_extension": ".py",
   "mimetype": "text/x-python",
   "name": "python",
   "nbconvert_exporter": "python",
   "pygments_lexer": "ipython3",
   "version": "3.7.9"
  }
 },
 "nbformat": 4,
 "nbformat_minor": 2
}